{
  "nbformat": 4,
  "nbformat_minor": 0,
  "metadata": {
    "colab": {
      "provenance": [],
      "collapsed_sections": [],
      "authorship_tag": "ABX9TyNadKz0DSCwlGiZZa1C0iMX",
      "include_colab_link": true
    },
    "kernelspec": {
      "name": "python3",
      "display_name": "Python 3"
    },
    "language_info": {
      "name": "python"
    }
  },
  "cells": [
    {
      "cell_type": "markdown",
      "metadata": {
        "id": "view-in-github",
        "colab_type": "text"
      },
      "source": [
        "<a href=\"https://colab.research.google.com/github/soujanyanayak/easy-farming/blob/development/plant_disease.ipynb\" target=\"_parent\"><img src=\"https://colab.research.google.com/assets/colab-badge.svg\" alt=\"Open In Colab\"/></a>"
      ]
    },
    {
      "cell_type": "markdown",
      "source": [
        "Plant Disease Detection"
      ],
      "metadata": {
        "id": "In9MFJdUpgbX"
      }
    },
    {
      "cell_type": "code",
      "source": [],
      "metadata": {
        "id": "87rwwLUKpjra"
      },
      "execution_count": null,
      "outputs": []
    }
  ]
}