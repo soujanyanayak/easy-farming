{
  "nbformat": 4,
  "nbformat_minor": 0,
  "metadata": {
    "colab": {
      "provenance": [],
      "collapsed_sections": [],
      "authorship_tag": "ABX9TyOspuISa27C+fhrhXJ2DIg6",
      "include_colab_link": true
    },
    "kernelspec": {
      "name": "python3",
      "display_name": "Python 3"
    },
    "language_info": {
      "name": "python"
    }
  },
  "cells": [
    {
      "cell_type": "markdown",
      "metadata": {
        "id": "view-in-github",
        "colab_type": "text"
      },
      "source": [
        "<a href=\"https://colab.research.google.com/github/soujanyanayak/easy-farming/blob/development/plant_disease.ipynb\" target=\"_parent\"><img src=\"https://colab.research.google.com/assets/colab-badge.svg\" alt=\"Open In Colab\"/></a>"
      ]
    },
    {
      "cell_type": "markdown",
      "source": [
        "Plant Disease Detection"
      ],
      "metadata": {
        "id": "In9MFJdUpgbX"
      }
    },
    {
      "cell_type": "markdown",
      "source": [
        "Step 1: Install Packages"
      ],
      "metadata": {
        "id": "O7-t9v7q18TC"
      }
    },
    {
      "cell_type": "code",
      "source": [
        "!sudo apt -y install libportaudio2\n",
        "!pip install -q --use-deprecated=legacy-resolver tflite-model-maker\n",
        "!pip install -q pycocotools\n",
        "!pip install -q opencv-python-headless==4.1.2.30\n",
        "!pip uninstall -y tensorflow && pip install -q tensorflow==2.8.0"
      ],
      "metadata": {
        "colab": {
          "base_uri": "https://localhost:8080/"
        },
        "id": "TKrp50hD2Ba5",
        "outputId": "b914b80a-1201-4200-e044-13bfdb85c8f6"
      },
      "execution_count": 1,
      "outputs": [
        {
          "output_type": "stream",
          "name": "stdout",
          "text": [
            "Reading package lists... Done\n",
            "Building dependency tree       \n",
            "Reading state information... Done\n",
            "The following package was automatically installed and is no longer required:\n",
            "  libnvidia-common-460\n",
            "Use 'sudo apt autoremove' to remove it.\n",
            "The following NEW packages will be installed:\n",
            "  libportaudio2\n",
            "0 upgraded, 1 newly installed, 0 to remove and 4 not upgraded.\n",
            "Need to get 64.6 kB of archives.\n",
            "After this operation, 215 kB of additional disk space will be used.\n",
            "Get:1 http://archive.ubuntu.com/ubuntu bionic/universe amd64 libportaudio2 amd64 19.6.0-1 [64.6 kB]\n",
            "Fetched 64.6 kB in 0s (172 kB/s)\n",
            "debconf: unable to initialize frontend: Dialog\n",
            "debconf: (No usable dialog-like program is installed, so the dialog based frontend cannot be used. at /usr/share/perl5/Debconf/FrontEnd/Dialog.pm line 76, <> line 1.)\n",
            "debconf: falling back to frontend: Readline\n",
            "debconf: unable to initialize frontend: Readline\n",
            "debconf: (This frontend requires a controlling tty.)\n",
            "debconf: falling back to frontend: Teletype\n",
            "dpkg-preconfigure: unable to re-open stdin: \n",
            "Selecting previously unselected package libportaudio2:amd64.\n",
            "(Reading database ... 123942 files and directories currently installed.)\n",
            "Preparing to unpack .../libportaudio2_19.6.0-1_amd64.deb ...\n",
            "Unpacking libportaudio2:amd64 (19.6.0-1) ...\n",
            "Setting up libportaudio2:amd64 (19.6.0-1) ...\n",
            "Processing triggers for libc-bin (2.27-3ubuntu1.6) ...\n",
            "\u001b[K     |████████████████████████████████| 577 kB 12.8 MB/s \n",
            "\u001b[K     |████████████████████████████████| 840 kB 44.6 MB/s \n",
            "\u001b[K     |████████████████████████████████| 1.1 MB 41.3 MB/s \n",
            "\u001b[K     |████████████████████████████████| 77 kB 1.8 MB/s \n",
            "\u001b[K     |████████████████████████████████| 87 kB 2.7 MB/s \n",
            "\u001b[K     |████████████████████████████████| 128 kB 45.6 MB/s \n",
            "\u001b[K     |████████████████████████████████| 1.3 MB 48.2 MB/s \n",
            "\u001b[K     |████████████████████████████████| 3.4 MB 45.0 MB/s \n",
            "\u001b[K     |████████████████████████████████| 10.9 MB 22.6 MB/s \n",
            "\u001b[K     |████████████████████████████████| 238 kB 33.8 MB/s \n",
            "\u001b[K     |████████████████████████████████| 60.9 MB 1.2 MB/s \n",
            "\u001b[K     |████████████████████████████████| 352 kB 52.5 MB/s \n",
            "\u001b[K     |████████████████████████████████| 25.3 MB 1.6 MB/s \n",
            "\u001b[K     |████████████████████████████████| 216 kB 53.1 MB/s \n",
            "\u001b[?25h  Building wheel for fire (setup.py) ... \u001b[?25l\u001b[?25hdone\n",
            "\u001b[31mERROR: pip's legacy dependency resolver does not consider dependency conflicts when selecting packages. This behaviour is the source of the following dependency conflicts.\n",
            "tensorflow 2.9.2 requires flatbuffers<2,>=1.12, but you'll have flatbuffers 22.10.26 which is incompatible.\n",
            "tensorflowjs 3.18.0 requires packaging~=20.9, but you'll have packaging 21.3 which is incompatible.\n",
            "scann 1.2.6 requires tensorflow~=2.8.0, but you'll have tensorflow 2.9.2 which is incompatible.\n",
            "tflite-support 0.4.3 requires protobuf<4,>=3.18.0, but you'll have protobuf 3.17.3 which is incompatible.\u001b[0m\n",
            "\u001b[K     |████████████████████████████████| 21.8 MB 1.5 MB/s \n",
            "\u001b[?25hFound existing installation: tensorflow 2.9.2\n",
            "Uninstalling tensorflow-2.9.2:\n",
            "  Successfully uninstalled tensorflow-2.9.2\n",
            "\u001b[K     |████████████████████████████████| 668.3 MB 16 kB/s \n",
            "\u001b[K     |████████████████████████████████| 462 kB 16.9 MB/s \n",
            "\u001b[K     |████████████████████████████████| 5.8 MB 47.9 MB/s \n",
            "\u001b[K     |████████████████████████████████| 1.4 MB 25.4 MB/s \n",
            "\u001b[31mERROR: pip's dependency resolver does not currently take into account all the packages that are installed. This behaviour is the source of the following dependency conflicts.\n",
            "tensorflowjs 3.18.0 requires packaging~=20.9, but you have packaging 21.3 which is incompatible.\u001b[0m\n",
            "\u001b[?25h"
          ]
        }
      ]
    },
    {
      "cell_type": "markdown",
      "source": [
        "Step 2: Mount Google Drive"
      ],
      "metadata": {
        "id": "3IQiAQs52Afg"
      }
    },
    {
      "cell_type": "code",
      "source": [
        "from google.colab import drive\n",
        "drive.mount('/content/drive', force_remount=True)"
      ],
      "metadata": {
        "colab": {
          "base_uri": "https://localhost:8080/"
        },
        "id": "87rwwLUKpjra",
        "outputId": "2a0985fa-9538-4471-b01d-3e2f8e07d448"
      },
      "execution_count": 8,
      "outputs": [
        {
          "output_type": "stream",
          "name": "stdout",
          "text": [
            "Mounted at /content/drive\n"
          ]
        }
      ]
    },
    {
      "cell_type": "markdown",
      "source": [
        "Step 3: Import"
      ],
      "metadata": {
        "id": "i2zZpLHF3fAG"
      }
    },
    {
      "cell_type": "code",
      "source": [
        "import numpy as np\n",
        "import os\n",
        "\n",
        "from tflite_model_maker.config import QuantizationConfig\n",
        "from tflite_model_maker.config import ExportFormat\n",
        "from tflite_model_maker import model_spec\n",
        "from tflite_model_maker import object_detector\n",
        "\n",
        "import tensorflow as tf\n",
        "assert tf.__version__.startswith('2')\n",
        "\n",
        "tf.get_logger().setLevel('ERROR')\n",
        "from absl import logging\n",
        "logging.set_verbosity(logging.ERROR)"
      ],
      "metadata": {
        "id": "mfNR0lpb3geG"
      },
      "execution_count": 9,
      "outputs": []
    },
    {
      "cell_type": "code",
      "source": [
        "spec = model_spec.get('efficientdet_lite0')"
      ],
      "metadata": {
        "id": "PfbbylT13yHj"
      },
      "execution_count": 10,
      "outputs": []
    },
    {
      "cell_type": "code",
      "source": [
        "#sxdzawq  setup the directory names\n",
        "\n",
        "data_dir=\"/content/drive/MyDrive/collab/project3/Plant-diseases\"\n",
        "image_dir=\"/content/drive/MyDrive/collab/project3/Plant-diseases\"\n",
        "label_map_file =\"/content/drive/MyDrive/collab/project3/Plant-diseases/label_map.pbtxt\"\n",
        "print(\"image_dir\\n\")\n",
        "print(image_dir)\n",
        "\n",
        "test_dir=\"/content/drive/MyDrive/collab/project3/Plant-diseases/test\"\n",
        "train_dir=\"/content/drive/MyDrive/collab/project3/Plant-diseases/train\"\n",
        "valid_dir=\"/content/drive/MyDrive/collab/project3/Plant-diseases/valid\"\n",
        "\n",
        "\n",
        "\n",
        "trainAnnotations_dir=\"/content/drive/MyDrive/collab/project3/Plant-diseases/train_annotations\"\n",
        "validationAnnotations_dir=\"/content/drive/MyDrive/collab/project3/Plant-diseases/valid_annotations\"\n",
        "testAnnotations_dir=\"/content/drive/MyDrive/collab/project3/Plant-diseases/test_annotations\"\n",
        "\n",
        "print(\"\\n\\nannotations\\n\")\n",
        "print(trainAnnotations_dir)\n",
        "print(validationAnnotations_dir)\n",
        "print(testAnnotations_dir)\n",
        "print(\"\\n\\nlabel_map_file\")\n",
        "!cat $label_map_file\n",
        "%ls -1 {train_dir} | wc -l\n",
        "%ls -1 {valid_dir} | wc -l\n",
        "%ls -1 {test_dir} | wc -l\n",
        "\n"
      ],
      "metadata": {
        "id": "CXKiKwm05FMX",
        "colab": {
          "base_uri": "https://localhost:8080/"
        },
        "outputId": "1a854577-4d76-491f-d4d6-2120b76d66ff"
      },
      "execution_count": 48,
      "outputs": [
        {
          "output_type": "stream",
          "name": "stdout",
          "text": [
            "image_dir\n",
            "\n",
            "/content/drive/MyDrive/collab/project3/Plant-diseases\n",
            "\n",
            "\n",
            "annotations\n",
            "\n",
            "/content/drive/MyDrive/collab/project3/Plant-diseases/train_annotations\n",
            "/content/drive/MyDrive/collab/project3/Plant-diseases/valid_annotations\n",
            "/content/drive/MyDrive/collab/project3/Plant-diseases/test_annotations\n",
            "\n",
            "\n",
            "label_map_file\n",
            "item {\n",
            "    name: \"Tomato Early blight leaf\",\n",
            "    id: 1,\n",
            "    display_name: \"Tomato Early blight leaf\"\n",
            "}\n",
            "153\n",
            "13\n",
            "4\n"
          ]
        }
      ]
    },
    {
      "cell_type": "code",
      "source": [
        "# Validate if images are in JPEG\n",
        "\n",
        "import glob\n",
        "from PIL import Image\n",
        "filepattern = data_dir + \"/train/*\"\n",
        "print(filepattern)\n",
        "print(filepattern)\n",
        "files = glob.glob(filepattern)\n",
        "len(files)\n",
        "for file in files:\n",
        "  if \".jpg\" in file:\n",
        "    image = Image.open(file)\n",
        "    if image.format not in [\"JPG\", \"JPEG\"]:\n",
        "      print (file)\n",
        "      image.convert(\"RGB\").save(file, \"JPEG\")\n",
        "  else:\n",
        "    print(\"file not jpg: \", file )\n",
        "\n",
        "print(\"****************TRY AGAIN *************\")\n",
        "for file in files:\n",
        "  if \".jpg\" in file:\n",
        "    image = Image.open(file)\n",
        "    if image.format not in [\"JPG\", \"JPEG\"]:\n",
        "      print (file)\n",
        "  else:\n",
        "    print(\"file not jpg: \", file )"
      ],
      "metadata": {
        "colab": {
          "base_uri": "https://localhost:8080/"
        },
        "id": "xRya4ZDc2dcO",
        "outputId": "333b3fe2-24fc-4c24-e738-dddbd8545e8f"
      },
      "execution_count": 38,
      "outputs": [
        {
          "output_type": "stream",
          "name": "stdout",
          "text": [
            "/content/drive/MyDrive/collab/project3/Plant-diseases/train/*\n",
            "/content/drive/MyDrive/collab/project3/Plant-diseases/train/*\n",
            "****************TRY AGAIN *************\n"
          ]
        }
      ]
    },
    {
      "cell_type": "code",
      "source": [
        "#load the data from the Pascal VOC\n",
        "# this can take a long time depending on how much data you are loading\n",
        "# for example the MaskDetect data which contains total (train+test+valid) of 2,892 images\n",
        "# took me approximately 4-5 MINUTES TO LOAD\n",
        "train_data = object_detector.DataLoader.from_pascal_voc(train_dir, trainAnnotations_dir, label_map={1: \"Tomato Early blight leaf\"})\n",
        "validation_data = object_detector.DataLoader.from_pascal_voc(valid_dir, validationAnnotations_dir, label_map={1: \"Tomato Early blight leaf\"})\n",
        "test_data = object_detector.DataLoader.from_pascal_voc(test_dir, testAnnotations_dir, label_map={1: \"Tomato Early blight leaf\"})\n"
      ],
      "metadata": {
        "id": "ct0Peu8aap3B"
      },
      "execution_count": 50,
      "outputs": []
    },
    {
      "cell_type": "code",
      "execution_count": 51,
      "metadata": {
        "id": "kwlYdTcg63xy",
        "outputId": "aae6ca57-2fe5-4ef1-f5a5-cea479cb60e0",
        "colab": {
          "base_uri": "https://localhost:8080/"
        }
      },
      "outputs": [
        {
          "output_type": "stream",
          "name": "stdout",
          "text": [
            "Epoch 1/5\n",
            "38/38 [==============================] - 117s 2s/step - det_loss: 1.6860 - cls_loss: 1.0105 - box_loss: 0.0135 - reg_l2_loss: 0.0630 - loss: 1.7491 - learning_rate: 0.0065 - gradient_norm: 1.9218 - val_det_loss: 1.3895 - val_cls_loss: 0.8067 - val_box_loss: 0.0117 - val_reg_l2_loss: 0.0630 - val_loss: 1.4525\n",
            "Epoch 2/5\n",
            "38/38 [==============================] - 74s 2s/step - det_loss: 1.3383 - cls_loss: 0.7157 - box_loss: 0.0125 - reg_l2_loss: 0.0630 - loss: 1.4013 - learning_rate: 0.0034 - gradient_norm: 4.7068 - val_det_loss: 1.5025 - val_cls_loss: 0.9469 - val_box_loss: 0.0111 - val_reg_l2_loss: 0.0630 - val_loss: 1.5656\n",
            "Epoch 3/5\n",
            "38/38 [==============================] - 74s 2s/step - det_loss: 1.2218 - cls_loss: 0.6221 - box_loss: 0.0120 - reg_l2_loss: 0.0631 - loss: 1.2848 - learning_rate: 0.0016 - gradient_norm: 4.1076 - val_det_loss: 1.4169 - val_cls_loss: 0.8625 - val_box_loss: 0.0111 - val_reg_l2_loss: 0.0631 - val_loss: 1.4800\n",
            "Epoch 4/5\n",
            "38/38 [==============================] - 74s 2s/step - det_loss: 1.1094 - cls_loss: 0.5436 - box_loss: 0.0113 - reg_l2_loss: 0.0631 - loss: 1.1725 - learning_rate: 2.5230e-04 - gradient_norm: 3.7797 - val_det_loss: 1.2761 - val_cls_loss: 0.7309 - val_box_loss: 0.0109 - val_reg_l2_loss: 0.0631 - val_loss: 1.3391\n",
            "Epoch 5/5\n",
            "38/38 [==============================] - 85s 2s/step - det_loss: 1.1575 - cls_loss: 0.5705 - box_loss: 0.0117 - reg_l2_loss: 0.0631 - loss: 1.2206 - learning_rate: 2.5136e-04 - gradient_norm: 4.0815 - val_det_loss: 1.2374 - val_cls_loss: 0.6976 - val_box_loss: 0.0108 - val_reg_l2_loss: 0.0631 - val_loss: 1.3005\n"
          ]
        }
      ],
      "source": [
        "#set number of epoch and batch_size to train and then train\n",
        "epochs = 5\n",
        "batch_size = 4\n",
        "model = object_detector.create(train_data, model_spec=spec, batch_size=batch_size, train_whole_model=True, validation_data=validation_data, epochs=epochs)"
      ]
    },
    {
      "cell_type": "code",
      "source": [
        "model.evaluate(test_data)"
      ],
      "metadata": {
        "colab": {
          "base_uri": "https://localhost:8080/"
        },
        "id": "sRdunmIk9W2y",
        "outputId": "11458aa5-e423-490f-c2eb-15442caabc82"
      },
      "execution_count": 52,
      "outputs": [
        {
          "output_type": "stream",
          "name": "stdout",
          "text": [
            "\r1/1 [==============================] - 3s 3s/step\n",
            "\n"
          ]
        },
        {
          "output_type": "execute_result",
          "data": {
            "text/plain": [
              "{'AP': 0.05064042,\n",
              " 'AP50': 0.19982743,\n",
              " 'AP75': 0.001877774,\n",
              " 'APs': -1.0,\n",
              " 'APm': 0.024622925,\n",
              " 'APl': 0.17821783,\n",
              " 'ARmax1': 0.05263158,\n",
              " 'ARmax10': 0.08421053,\n",
              " 'ARmax100': 0.17368421,\n",
              " 'ARs': -1.0,\n",
              " 'ARm': 0.17333333,\n",
              " 'ARl': 0.175,\n",
              " 'AP_/Tomato Early blight leaf': 0.05064042}"
            ]
          },
          "metadata": {},
          "execution_count": 52
        }
      ]
    },
    {
      "cell_type": "code",
      "source": [
        "model.export(export_dir=data_dir)"
      ],
      "metadata": {
        "id": "mRmf-yOh_wmr"
      },
      "execution_count": 53,
      "outputs": []
    }
  ]
}